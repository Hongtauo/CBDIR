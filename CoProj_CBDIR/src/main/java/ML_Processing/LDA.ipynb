{
 "cells": [
  {
   "cell_type": "code",
   "execution_count": 19,
   "metadata": {},
   "outputs": [
    {
     "ename": "JSONDecodeError",
     "evalue": "Extra data: line 2 column 1 (char 83)",
     "output_type": "error",
     "traceback": [
      "\u001b[1;31m---------------------------------------------------------------------------\u001b[0m",
      "\u001b[1;31mJSONDecodeError\u001b[0m                           Traceback (most recent call last)",
      "\u001b[1;32md:\\MyFiles\\Practice\\Project\\Proj2_CBDIR\\CoProj_CBDIR\\src\\main\\java\\ML_Processing\\LDA.ipynb 单元格 1\u001b[0m line \u001b[0;36m<cell line: 9>\u001b[1;34m()\u001b[0m\n\u001b[0;32m      <a href='vscode-notebook-cell:/d%3A/MyFiles/Practice/Project/Proj2_CBDIR/CoProj_CBDIR/src/main/java/ML_Processing/LDA.ipynb#W0sZmlsZQ%3D%3D?line=5'>6</a>\u001b[0m f1 \u001b[39m=\u001b[39m \u001b[39mopen\u001b[39m(train_dataPath)\n\u001b[0;32m      <a href='vscode-notebook-cell:/d%3A/MyFiles/Practice/Project/Proj2_CBDIR/CoProj_CBDIR/src/main/java/ML_Processing/LDA.ipynb#W0sZmlsZQ%3D%3D?line=6'>7</a>\u001b[0m f2 \u001b[39m=\u001b[39m \u001b[39mopen\u001b[39m(test_dataPath)\n\u001b[1;32m----> <a href='vscode-notebook-cell:/d%3A/MyFiles/Practice/Project/Proj2_CBDIR/CoProj_CBDIR/src/main/java/ML_Processing/LDA.ipynb#W0sZmlsZQ%3D%3D?line=8'>9</a>\u001b[0m train_data \u001b[39m=\u001b[39m json\u001b[39m.\u001b[39;49mload(f1)\n\u001b[0;32m     <a href='vscode-notebook-cell:/d%3A/MyFiles/Practice/Project/Proj2_CBDIR/CoProj_CBDIR/src/main/java/ML_Processing/LDA.ipynb#W0sZmlsZQ%3D%3D?line=9'>10</a>\u001b[0m test_data \u001b[39m=\u001b[39m json\u001b[39m.\u001b[39mload(f2)\n",
      "File \u001b[1;32mc:\\Users\\Tao\\anaconda3\\envs\\tensorflow\\lib\\json\\__init__.py:293\u001b[0m, in \u001b[0;36mload\u001b[1;34m(fp, cls, object_hook, parse_float, parse_int, parse_constant, object_pairs_hook, **kw)\u001b[0m\n\u001b[0;32m    274\u001b[0m \u001b[39mdef\u001b[39;00m \u001b[39mload\u001b[39m(fp, \u001b[39m*\u001b[39m, \u001b[39mcls\u001b[39m\u001b[39m=\u001b[39m\u001b[39mNone\u001b[39;00m, object_hook\u001b[39m=\u001b[39m\u001b[39mNone\u001b[39;00m, parse_float\u001b[39m=\u001b[39m\u001b[39mNone\u001b[39;00m,\n\u001b[0;32m    275\u001b[0m         parse_int\u001b[39m=\u001b[39m\u001b[39mNone\u001b[39;00m, parse_constant\u001b[39m=\u001b[39m\u001b[39mNone\u001b[39;00m, object_pairs_hook\u001b[39m=\u001b[39m\u001b[39mNone\u001b[39;00m, \u001b[39m*\u001b[39m\u001b[39m*\u001b[39mkw):\n\u001b[0;32m    276\u001b[0m     \u001b[39m\"\"\"Deserialize ``fp`` (a ``.read()``-supporting file-like object containing\u001b[39;00m\n\u001b[0;32m    277\u001b[0m \u001b[39m    a JSON document) to a Python object.\u001b[39;00m\n\u001b[0;32m    278\u001b[0m \n\u001b[1;32m   (...)\u001b[0m\n\u001b[0;32m    291\u001b[0m \u001b[39m    kwarg; otherwise ``JSONDecoder`` is used.\u001b[39;00m\n\u001b[0;32m    292\u001b[0m \u001b[39m    \"\"\"\u001b[39;00m\n\u001b[1;32m--> 293\u001b[0m     \u001b[39mreturn\u001b[39;00m loads(fp\u001b[39m.\u001b[39mread(),\n\u001b[0;32m    294\u001b[0m         \u001b[39mcls\u001b[39m\u001b[39m=\u001b[39m\u001b[39mcls\u001b[39m, object_hook\u001b[39m=\u001b[39mobject_hook,\n\u001b[0;32m    295\u001b[0m         parse_float\u001b[39m=\u001b[39mparse_float, parse_int\u001b[39m=\u001b[39mparse_int,\n\u001b[0;32m    296\u001b[0m         parse_constant\u001b[39m=\u001b[39mparse_constant, object_pairs_hook\u001b[39m=\u001b[39mobject_pairs_hook, \u001b[39m*\u001b[39m\u001b[39m*\u001b[39mkw)\n",
      "File \u001b[1;32mc:\\Users\\Tao\\anaconda3\\envs\\tensorflow\\lib\\json\\__init__.py:346\u001b[0m, in \u001b[0;36mloads\u001b[1;34m(s, cls, object_hook, parse_float, parse_int, parse_constant, object_pairs_hook, **kw)\u001b[0m\n\u001b[0;32m    341\u001b[0m     s \u001b[39m=\u001b[39m s\u001b[39m.\u001b[39mdecode(detect_encoding(s), \u001b[39m'\u001b[39m\u001b[39msurrogatepass\u001b[39m\u001b[39m'\u001b[39m)\n\u001b[0;32m    343\u001b[0m \u001b[39mif\u001b[39;00m (\u001b[39mcls\u001b[39m \u001b[39mis\u001b[39;00m \u001b[39mNone\u001b[39;00m \u001b[39mand\u001b[39;00m object_hook \u001b[39mis\u001b[39;00m \u001b[39mNone\u001b[39;00m \u001b[39mand\u001b[39;00m\n\u001b[0;32m    344\u001b[0m         parse_int \u001b[39mis\u001b[39;00m \u001b[39mNone\u001b[39;00m \u001b[39mand\u001b[39;00m parse_float \u001b[39mis\u001b[39;00m \u001b[39mNone\u001b[39;00m \u001b[39mand\u001b[39;00m\n\u001b[0;32m    345\u001b[0m         parse_constant \u001b[39mis\u001b[39;00m \u001b[39mNone\u001b[39;00m \u001b[39mand\u001b[39;00m object_pairs_hook \u001b[39mis\u001b[39;00m \u001b[39mNone\u001b[39;00m \u001b[39mand\u001b[39;00m \u001b[39mnot\u001b[39;00m kw):\n\u001b[1;32m--> 346\u001b[0m     \u001b[39mreturn\u001b[39;00m _default_decoder\u001b[39m.\u001b[39;49mdecode(s)\n\u001b[0;32m    347\u001b[0m \u001b[39mif\u001b[39;00m \u001b[39mcls\u001b[39m \u001b[39mis\u001b[39;00m \u001b[39mNone\u001b[39;00m:\n\u001b[0;32m    348\u001b[0m     \u001b[39mcls\u001b[39m \u001b[39m=\u001b[39m JSONDecoder\n",
      "File \u001b[1;32mc:\\Users\\Tao\\anaconda3\\envs\\tensorflow\\lib\\json\\decoder.py:340\u001b[0m, in \u001b[0;36mJSONDecoder.decode\u001b[1;34m(self, s, _w)\u001b[0m\n\u001b[0;32m    338\u001b[0m end \u001b[39m=\u001b[39m _w(s, end)\u001b[39m.\u001b[39mend()\n\u001b[0;32m    339\u001b[0m \u001b[39mif\u001b[39;00m end \u001b[39m!=\u001b[39m \u001b[39mlen\u001b[39m(s):\n\u001b[1;32m--> 340\u001b[0m     \u001b[39mraise\u001b[39;00m JSONDecodeError(\u001b[39m\"\u001b[39m\u001b[39mExtra data\u001b[39m\u001b[39m\"\u001b[39m, s, end)\n\u001b[0;32m    341\u001b[0m \u001b[39mreturn\u001b[39;00m obj\n",
      "\u001b[1;31mJSONDecodeError\u001b[0m: Extra data: line 2 column 1 (char 83)"
     ]
    }
   ],
   "source": [
    "import json\n",
    "\n",
    "train_dataPath =r\"D:\\MyFiles\\Practice\\Project\\Proj2_CBDIR\\Data\\traindata.json\\part-00000-76c84a7f-deb8-416a-a370-ebe071016bcb-c000.json\"\n",
    "test_dataPath = r\"D:\\MyFiles\\Practice\\Project\\Proj2_CBDIR\\Data\\testdata.json\\part-00000-4b17d2f3-4c47-4571-916f-8c725ae8a1b8-c000.json\"\n",
    "\n",
    "f1 = open(train_dataPath)\n",
    "f2 = open(test_dataPath)\n",
    "\n",
    "train_data = json.load(f1)\n",
    "test_data = json.load(f2)"
   ]
  },
  {
   "cell_type": "code",
   "execution_count": 42,
   "metadata": {},
   "outputs": [
    {
     "name": "stdout",
     "output_type": "stream",
     "text": [
      "               UserID  Rating  ReviewTime      Review      MealID\n",
      "20941  A1POFVVXUZR3IQ       5  1497169600  太美味了，强烈推荐！  B000H00VBQ\n",
      "5929   A3RXD7Z44T9DHW       5  1495924800  太美味了，强烈推荐！  B000H0X79O\n",
      "30262  A39F2EW27YYUDM       5  1498689600  太美味了，强烈推荐！  B000H29TXU\n",
      "7096   A3RXD7Z44T9DHW       5  1494024000  太美味了，强烈推荐！  B000H2DMME\n",
      "6441    ALZWY9L4E5GXO       5  1493713600  太美味了，强烈推荐！  B000H4YNM0\n",
      "...               ...     ...         ...         ...         ...\n",
      "73     A2ELX9A8L2AHKW       5  1496184000  太美味了，强烈推荐！  B00LCHENE4\n",
      "19185   AV1CICDLNN1O5       5  1496616000       简直太赞了  B00LG0DKBO\n",
      "32260   AYB0IXBPBJ20A       5  1496616000    此味只应天上有！  B00LIRFK5E\n",
      "69     A3U3RFL0XE4F7V       5  1496184000  太美味了，强烈推荐！  B00LM493J2\n",
      "19412   AGOEKVIJV9UX6       5  1496702400  太美味了，强烈推荐！  B00LPWPMCS\n",
      "\n",
      "[1685 rows x 5 columns]\n"
     ]
    }
   ],
   "source": [
    "import pandas as pd\n",
    "path  = r\"D:\\MyFiles\\Practice\\Project\\Proj2_CBDIR\\Data\\MealRatings_201705_201706.json\"\n",
    "\n",
    "df = pd.read_json(path)\n",
    "\n",
    "\n",
    "df_sorted = df.sort_values(by=['MealID', 'Rating', 'ReviewTime'], ascending=[True, True, False])\n",
    "df_final = df_sorted.drop_duplicates(subset='MealID', keep='last')\n",
    "\n",
    "print(df_final)\n",
    "\n",
    "\n"
   ]
  }
 ],
 "metadata": {
  "kernelspec": {
   "display_name": "tensorflow",
   "language": "python",
   "name": "python3"
  },
  "language_info": {
   "codemirror_mode": {
    "name": "ipython",
    "version": 3
   },
   "file_extension": ".py",
   "mimetype": "text/x-python",
   "name": "python",
   "nbconvert_exporter": "python",
   "pygments_lexer": "ipython3",
   "version": "3.9.13"
  },
  "orig_nbformat": 4
 },
 "nbformat": 4,
 "nbformat_minor": 2
}
